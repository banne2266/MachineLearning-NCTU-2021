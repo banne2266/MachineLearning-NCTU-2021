{
 "cells": [
  {
   "cell_type": "code",
   "execution_count": 1,
   "metadata": {},
   "outputs": [],
   "source": [
    "import json\n",
    "import numpy as np\n",
    "import tensorflow as tf\n",
    "from tensorflow.keras import layers\n",
    "from tensorflow.keras import losses"
   ]
  },
  {
   "cell_type": "code",
   "execution_count": 2,
   "metadata": {},
   "outputs": [],
   "source": [
    "with open(\"train.json\") as f:\n",
    "    train_set = json.load(f)\n",
    "\n",
    "cnt = 0\n",
    "ingredient_to_id = {}\n",
    "ingredient_to_cnt = {}\n",
    "ingredients = []\n",
    "\n",
    "cuisine_cnt = 0\n",
    "cuisine_to_id = {}\n",
    "cuisine_to_cnt = {}\n",
    "cuisines = []\n",
    "\n",
    "for item in train_set:\n",
    "    cuisine = item['cuisine']\n",
    "    if cuisine not in cuisine_to_id:\n",
    "        cuisine_to_id[cuisine] = cuisine_cnt\n",
    "        cuisine_cnt += 1\n",
    "        cuisine_to_cnt[cuisine] = 1\n",
    "        cuisines.append(cuisine)\n",
    "    else:\n",
    "        cuisine_to_cnt[cuisine] += 1\n",
    "\n",
    "    for ingredient in item['ingredients']:\n",
    "        if ingredient not in ingredient_to_id:\n",
    "            ingredient_to_id[ingredient] = cnt\n",
    "            cnt += 1\n",
    "            ingredient_to_cnt[ingredient] = 1\n",
    "            ingredients.append(ingredient)\n",
    "        else:\n",
    "            ingredient_to_cnt[ingredient] += 1"
   ]
  },
  {
   "cell_type": "code",
   "execution_count": 3,
   "metadata": {},
   "outputs": [
    {
     "data": {
      "text/plain": [
       "'print(x)\\nprint(y)'"
      ]
     },
     "execution_count": 3,
     "metadata": {},
     "output_type": "execute_result"
    }
   ],
   "source": [
    "'''print(cnt)\n",
    "print(cuisine_cnt)'''\n",
    "\n",
    "x = np.zeros((len(train_set), cnt), np.float)\n",
    "y = np.zeros((len(train_set), cuisine_cnt), np.float)\n",
    "for id, item in enumerate(train_set):\n",
    "    for ingredient in item['ingredients']:\n",
    "        x[id][ ingredient_to_id[ingredient] ] = 1.0\n",
    "    y[id][ cuisine_to_id[item['cuisine']] ] = 1.0\n",
    "'''print(x)\n",
    "print(y)'''"
   ]
  },
  {
   "cell_type": "code",
   "execution_count": 12,
   "metadata": {},
   "outputs": [
    {
     "name": "stdout",
     "output_type": "stream",
     "text": [
      "(29774, 20)\n",
      "(29774, 6213)\n",
      "Epoch 1/5\n",
      "1861/1861 [==============================] - 6s 3ms/step - loss: 1.6432 - accuracy: 0.5387\n",
      "Epoch 2/5\n",
      "1861/1861 [==============================] - 5s 3ms/step - loss: 0.7630 - accuracy: 0.7791\n",
      "Epoch 3/5\n",
      "1861/1861 [==============================] - 5s 3ms/step - loss: 0.5741 - accuracy: 0.8304\n",
      "Epoch 4/5\n",
      "1861/1861 [==============================] - 5s 3ms/step - loss: 0.4565 - accuracy: 0.8615\n",
      "Epoch 5/5\n",
      "1861/1861 [==============================] - 5s 3ms/step - loss: 0.3775 - accuracy: 0.8870\n",
      "Model: \"sequential_8\"\n",
      "_________________________________________________________________\n",
      "Layer (type)                 Output Shape              Param #   \n",
      "=================================================================\n",
      "dense_22 (Dense)             (None, 100)               621400    \n",
      "_________________________________________________________________\n",
      "dropout_15 (Dropout)         (None, 100)               0         \n",
      "_________________________________________________________________\n",
      "dense_23 (Dense)             (None, 40)                4040      \n",
      "_________________________________________________________________\n",
      "dropout_16 (Dropout)         (None, 40)                0         \n",
      "_________________________________________________________________\n",
      "dense_24 (Dense)             (None, 20)                820       \n",
      "=================================================================\n",
      "Total params: 626,260\n",
      "Trainable params: 626,260\n",
      "Non-trainable params: 0\n",
      "_________________________________________________________________\n"
     ]
    }
   ],
   "source": [
    "\n",
    "model = tf.keras.Sequential([\n",
    "  layers.Dense(6400, activation='relu'),\n",
    "  layers.Dropout(0.2),\n",
    "  layers.Dense(3200, activation='relu'),\n",
    "  layers.Dropout(0.2),\n",
    "  layers.Dense(1600, activation='relu'),\n",
    "  layers.Dropout(0.2),\n",
    "  layers.Dense(800, activation='relu'),\n",
    "  layers.Dropout(0.2),\n",
    "  layers.Dense(400, activation='relu'),\n",
    "  layers.Dropout(0.2),\n",
    "  layers.Dense(200, activation='relu'),\n",
    "  layers.Dropout(0.2),\n",
    "  layers.Dense(100, activation='relu'),\n",
    "  layers.Dropout(0.2),\n",
    "  layers.Dense(40, activation='relu'),\n",
    "  layers.Dropout(0.2),\n",
    "  layers.Dense(20, activation='softmax'),\n",
    "  ])\n",
    "print(y.shape)\n",
    "print(x.shape)\n",
    "model.compile(optimizer='adam',\n",
    "              loss=tf.keras.losses.CategoricalCrossentropy(from_logits=False),\n",
    "              metrics=['accuracy'])\n",
    "history =  model.fit(x, y, batch_size=16, epochs=5)\n",
    "model.summary()\n",
    "\n"
   ]
  }
 ],
 "metadata": {
  "interpreter": {
   "hash": "b328e4ad0b997ab438c5268137c5a309d1ace5844e1d3321d53a20a83995abe7"
  },
  "kernelspec": {
   "display_name": "Python 3.8.5 64-bit ('base': conda)",
   "language": "python",
   "name": "python3"
  },
  "language_info": {
   "codemirror_mode": {
    "name": "ipython",
    "version": 3
   },
   "file_extension": ".py",
   "mimetype": "text/x-python",
   "name": "python",
   "nbconvert_exporter": "python",
   "pygments_lexer": "ipython3",
   "version": "3.8.5"
  },
  "orig_nbformat": 4
 },
 "nbformat": 4,
 "nbformat_minor": 2
}
