{
 "cells": [
  {
   "cell_type": "code",
   "execution_count": 1,
   "metadata": {},
   "outputs": [],
   "source": [
    "import DataProcessing\n",
    "\n",
    "import sklearn\n",
    "import pandas as pd\n",
    "from sklearn.svm import SVC\n",
    "from sklearn.ensemble import RandomForestClassifier\n",
    "\n",
    "from sklearn.metrics import confusion_matrix\n",
    "from sklearn.metrics import classification_report\n",
    "from sklearn.metrics import ConfusionMatrixDisplay\n",
    "\n",
    "import tensorflow as tf\n",
    "from tensorflow.keras import layers\n",
    "from tensorflow.keras import callbacks\n",
    "\n",
    "import matplotlib.pyplot as plt"
   ]
  },
  {
   "cell_type": "code",
   "execution_count": 2,
   "metadata": {},
   "outputs": [
    {
     "name": "stdout",
     "output_type": "stream",
     "text": [
      "[1. 0. 0. ... 1. 1. 1.]\n",
      "(66319, 620)\n"
     ]
    }
   ],
   "source": [
    "df = DataProcessing.read_data('Dataset')\n",
    "df = DataProcessing.preprocess_drop_col(df)\n",
    "df = DataProcessing.preprocess_one_hot(df)\n",
    "df['時'] = df['時'].apply(DataProcessing.process_hour)\n",
    "df['GPS緯度'] = df['GPS緯度'].apply(DataProcessing.process_longtitute)\n",
    "df['GPS經度'] = df['GPS經度'].apply(DataProcessing.process_latitude)\n",
    "df = sklearn.utils.shuffle(df)\n",
    "df.head(20)\n",
    "x, y = DataProcessing.get_label(df)\n",
    "print(y)\n",
    "print(x.shape)\n"
   ]
  },
  {
   "cell_type": "code",
   "execution_count": 3,
   "metadata": {},
   "outputs": [],
   "source": [
    "data_num = x.shape[0]\n",
    "train_num = int(data_num * 0.7)\n",
    "x_train, x_test = x[:train_num], x[train_num:]\n",
    "y_train, y_test = y[:train_num], y[train_num:]"
   ]
  },
  {
   "cell_type": "code",
   "execution_count": 4,
   "metadata": {},
   "outputs": [
    {
     "data": {
      "text/plain": [
       "SVC(gamma='auto')"
      ]
     },
     "execution_count": 4,
     "metadata": {},
     "output_type": "execute_result"
    }
   ],
   "source": [
    "svm = SVC(gamma='auto', kernel='rbf')\n",
    "svm.fit(x_train,y_train)"
   ]
  },
  {
   "cell_type": "code",
   "execution_count": 5,
   "metadata": {},
   "outputs": [
    {
     "data": {
      "image/png": "[encoded data removed]",
      "text/plain": [
       "<Figure size 432x288 with 2 Axes>"
      ]
     },
     "metadata": {
      "needs_background": "light"
     },
     "output_type": "display_data"
    },
    {
     "name": "stdout",
     "output_type": "stream",
     "text": [
      "              precision    recall  f1-score   support\n",
      "\n",
      "         0.0       1.00      1.00      1.00      9596\n",
      "         1.0       1.00      1.00      1.00     10300\n",
      "\n",
      "    accuracy                           1.00     19896\n",
      "   macro avg       1.00      1.00      1.00     19896\n",
      "weighted avg       1.00      1.00      1.00     19896\n",
      "\n"
     ]
    }
   ],
   "source": [
    "ypred = svm.predict(x_test)\n",
    "CM = confusion_matrix(y_test, ypred)\n",
    "report = classification_report(y_test, ypred)\n",
    "ConfusionMatrixDisplay(confusion_matrix=CM).plot()\n",
    "plt.show()\n",
    "print(report)"
   ]
  },
  {
   "cell_type": "code",
   "execution_count": 6,
   "metadata": {},
   "outputs": [
    {
     "data": {
      "text/plain": [
       "RandomForestClassifier()"
      ]
     },
     "execution_count": 6,
     "metadata": {},
     "output_type": "execute_result"
    }
   ],
   "source": [
    "RFC = RandomForestClassifier()\n",
    "RFC.fit(x_train,y_train)"
   ]
  },
  {
   "cell_type": "code",
   "execution_count": 7,
   "metadata": {},
   "outputs": [
    {
     "data": {
      "image/png": "[encoded data removed]",
      "text/plain": [
       "<Figure size 432x288 with 2 Axes>"
      ]
     },
     "metadata": {
      "needs_background": "light"
     },
     "output_type": "display_data"
    },
    {
     "name": "stdout",
     "output_type": "stream",
     "text": [
      "              precision    recall  f1-score   support\n",
      "\n",
      "         0.0       1.00      1.00      1.00      9596\n",
      "         1.0       1.00      1.00      1.00     10300\n",
      "\n",
      "    accuracy                           1.00     19896\n",
      "   macro avg       1.00      1.00      1.00     19896\n",
      "weighted avg       1.00      1.00      1.00     19896\n",
      "\n"
     ]
    }
   ],
   "source": [
    "ypred = RFC.predict(x_test)\n",
    "CM = confusion_matrix(y_test, ypred)\n",
    "report = classification_report(y_test, ypred)\n",
    "ConfusionMatrixDisplay(confusion_matrix=CM).plot()\n",
    "plt.show()\n",
    "print(report)"
   ]
  },
  {
   "cell_type": "code",
   "execution_count": 8,
   "metadata": {},
   "outputs": [
    {
     "name": "stdout",
     "output_type": "stream",
     "text": [
      "Epoch 1/50\n",
      "726/726 [==============================] - 4s 4ms/step - loss: 0.2834 - accuracy: 0.9009 - val_loss: 0.0197 - val_accuracy: 0.9983\n",
      "Epoch 2/50\n",
      "726/726 [==============================] - 2s 3ms/step - loss: 0.0430 - accuracy: 0.9939 - val_loss: 0.0131 - val_accuracy: 0.9984\n",
      "Epoch 3/50\n",
      "726/726 [==============================] - 2s 3ms/step - loss: 0.0277 - accuracy: 0.9965 - val_loss: 0.0100 - val_accuracy: 0.9984\n",
      "Epoch 4/50\n",
      "726/726 [==============================] - 2s 3ms/step - loss: 0.0299 - accuracy: 0.9963 - val_loss: 0.0094 - val_accuracy: 0.9984\n",
      "Epoch 5/50\n",
      "726/726 [==============================] - 2s 3ms/step - loss: 0.0249 - accuracy: 0.9963 - val_loss: 0.0092 - val_accuracy: 0.9984\n",
      "Epoch 6/50\n",
      "726/726 [==============================] - 2s 3ms/step - loss: 0.0232 - accuracy: 0.9970 - val_loss: 0.0094 - val_accuracy: 0.9984\n",
      "Epoch 7/50\n",
      "726/726 [==============================] - 2s 3ms/step - loss: 0.0181 - accuracy: 0.9972 - val_loss: 0.0093 - val_accuracy: 0.9984\n",
      "Epoch 8/50\n",
      "726/726 [==============================] - 2s 3ms/step - loss: 0.0183 - accuracy: 0.9968 - val_loss: 0.0090 - val_accuracy: 0.9984\n",
      "Epoch 9/50\n",
      "726/726 [==============================] - 2s 3ms/step - loss: 0.0201 - accuracy: 0.9969 - val_loss: 0.0089 - val_accuracy: 0.9984\n",
      "Epoch 10/50\n",
      "726/726 [==============================] - 2s 3ms/step - loss: 0.0244 - accuracy: 0.9966 - val_loss: 0.0088 - val_accuracy: 0.9984\n",
      "Epoch 11/50\n",
      "726/726 [==============================] - 2s 3ms/step - loss: 0.0184 - accuracy: 0.9975 - val_loss: 0.0091 - val_accuracy: 0.9984\n",
      "Epoch 12/50\n",
      "726/726 [==============================] - 2s 3ms/step - loss: 0.0181 - accuracy: 0.9970 - val_loss: 0.0089 - val_accuracy: 0.9984\n",
      "Epoch 13/50\n",
      "726/726 [==============================] - 2s 3ms/step - loss: 0.0143 - accuracy: 0.9971 - val_loss: 0.0090 - val_accuracy: 0.9984\n",
      "Epoch 14/50\n",
      "726/726 [==============================] - 2s 3ms/step - loss: 0.0142 - accuracy: 0.9973 - val_loss: 0.0087 - val_accuracy: 0.9984\n",
      "Epoch 15/50\n",
      "726/726 [==============================] - 2s 3ms/step - loss: 0.0175 - accuracy: 0.9970 - val_loss: 0.0088 - val_accuracy: 0.9984\n",
      "Epoch 16/50\n",
      "726/726 [==============================] - 2s 3ms/step - loss: 0.0151 - accuracy: 0.9971 - val_loss: 0.0089 - val_accuracy: 0.9984\n",
      "Epoch 17/50\n",
      "726/726 [==============================] - 2s 3ms/step - loss: 0.0144 - accuracy: 0.9972 - val_loss: 0.0086 - val_accuracy: 0.9984\n",
      "Epoch 18/50\n",
      "726/726 [==============================] - 2s 3ms/step - loss: 0.0167 - accuracy: 0.9972 - val_loss: 0.0088 - val_accuracy: 0.9984\n",
      "Epoch 19/50\n",
      "726/726 [==============================] - 2s 3ms/step - loss: 0.0138 - accuracy: 0.9975 - val_loss: 0.0087 - val_accuracy: 0.9984\n",
      "Epoch 20/50\n",
      "726/726 [==============================] - 2s 3ms/step - loss: 0.0190 - accuracy: 0.9973 - val_loss: 0.0087 - val_accuracy: 0.9984\n",
      "Epoch 21/50\n",
      "726/726 [==============================] - 2s 3ms/step - loss: 0.0167 - accuracy: 0.9975 - val_loss: 0.0087 - val_accuracy: 0.9984\n",
      "Epoch 22/50\n",
      "726/726 [==============================] - 2s 3ms/step - loss: 0.0126 - accuracy: 0.9972 - val_loss: 0.0087 - val_accuracy: 0.9984\n",
      "Epoch 23/50\n",
      "726/726 [==============================] - 2s 3ms/step - loss: 0.0099 - accuracy: 0.9980 - val_loss: 0.0086 - val_accuracy: 0.9984\n",
      "Epoch 24/50\n",
      "726/726 [==============================] - 2s 3ms/step - loss: 0.0099 - accuracy: 0.9981 - val_loss: 0.0087 - val_accuracy: 0.9984\n",
      "Epoch 25/50\n",
      "726/726 [==============================] - 2s 3ms/step - loss: 0.0110 - accuracy: 0.9980 - val_loss: 0.0088 - val_accuracy: 0.9984\n",
      "Epoch 26/50\n",
      "726/726 [==============================] - 2s 3ms/step - loss: 0.0117 - accuracy: 0.9975 - val_loss: 0.0088 - val_accuracy: 0.9984\n",
      "Epoch 27/50\n",
      "726/726 [==============================] - 2s 3ms/step - loss: 0.0140 - accuracy: 0.9970 - val_loss: 0.0088 - val_accuracy: 0.9984\n",
      "Epoch 28/50\n",
      "726/726 [==============================] - 2s 3ms/step - loss: 0.0114 - accuracy: 0.9976 - val_loss: 0.0087 - val_accuracy: 0.9984\n",
      "Epoch 29/50\n",
      "726/726 [==============================] - 2s 3ms/step - loss: 0.0133 - accuracy: 0.9973 - val_loss: 0.0088 - val_accuracy: 0.9984\n",
      "Epoch 30/50\n",
      "726/726 [==============================] - 2s 3ms/step - loss: 0.0123 - accuracy: 0.9978 - val_loss: 0.0088 - val_accuracy: 0.9984\n",
      "Epoch 31/50\n",
      "726/726 [==============================] - 2s 3ms/step - loss: 0.0161 - accuracy: 0.9973 - val_loss: 0.0088 - val_accuracy: 0.9984\n",
      "Epoch 32/50\n",
      "726/726 [==============================] - 2s 3ms/step - loss: 0.0143 - accuracy: 0.9973 - val_loss: 0.0088 - val_accuracy: 0.9984\n",
      "Epoch 33/50\n",
      "726/726 [==============================] - 2s 3ms/step - loss: 0.0107 - accuracy: 0.9977 - val_loss: 0.0088 - val_accuracy: 0.9984\n",
      "Epoch 34/50\n",
      "726/726 [==============================] - 2s 3ms/step - loss: 0.0094 - accuracy: 0.9981 - val_loss: 0.0088 - val_accuracy: 0.9984\n",
      "Epoch 35/50\n",
      "726/726 [==============================] - 2s 3ms/step - loss: 0.0102 - accuracy: 0.9978 - val_loss: 0.0088 - val_accuracy: 0.9984\n",
      "Epoch 36/50\n",
      "726/726 [==============================] - 2s 3ms/step - loss: 0.0127 - accuracy: 0.9974 - val_loss: 0.0088 - val_accuracy: 0.9984\n",
      "Epoch 37/50\n",
      "726/726 [==============================] - 2s 3ms/step - loss: 0.0129 - accuracy: 0.9971 - val_loss: 0.0088 - val_accuracy: 0.9984\n",
      "Epoch 38/50\n",
      "726/726 [==============================] - 2s 3ms/step - loss: 0.0097 - accuracy: 0.9980 - val_loss: 0.0088 - val_accuracy: 0.9984\n",
      "Epoch 39/50\n",
      "726/726 [==============================] - 2s 3ms/step - loss: 0.0111 - accuracy: 0.9974 - val_loss: 0.0088 - val_accuracy: 0.9984\n",
      "Epoch 40/50\n",
      "726/726 [==============================] - 2s 3ms/step - loss: 0.0095 - accuracy: 0.9981 - val_loss: 0.0089 - val_accuracy: 0.9984\n",
      "Epoch 41/50\n",
      "726/726 [==============================] - 2s 3ms/step - loss: 0.0101 - accuracy: 0.9978 - val_loss: 0.0088 - val_accuracy: 0.9984\n",
      "Epoch 42/50\n",
      "726/726 [==============================] - 2s 3ms/step - loss: 0.0115 - accuracy: 0.9975 - val_loss: 0.0089 - val_accuracy: 0.9984\n",
      "Epoch 43/50\n",
      "726/726 [==============================] - 2s 3ms/step - loss: 0.0096 - accuracy: 0.9978 - val_loss: 0.0088 - val_accuracy: 0.9984\n",
      "Epoch 44/50\n",
      "726/726 [==============================] - 3s 3ms/step - loss: 0.0104 - accuracy: 0.9976 - val_loss: 0.0089 - val_accuracy: 0.9984\n",
      "Epoch 45/50\n",
      "726/726 [==============================] - 2s 3ms/step - loss: 0.0114 - accuracy: 0.9976 - val_loss: 0.0088 - val_accuracy: 0.9984\n",
      "Epoch 46/50\n",
      "726/726 [==============================] - 2s 3ms/step - loss: 0.0094 - accuracy: 0.9978 - val_loss: 0.0088 - val_accuracy: 0.9984\n",
      "Epoch 47/50\n",
      "726/726 [==============================] - 3s 4ms/step - loss: 0.0103 - accuracy: 0.9979 - val_loss: 0.0089 - val_accuracy: 0.9984\n",
      "Epoch 48/50\n",
      "726/726 [==============================] - 3s 4ms/step - loss: 0.0097 - accuracy: 0.9981 - val_loss: 0.0089 - val_accuracy: 0.9984\n",
      "Epoch 49/50\n",
      "726/726 [==============================] - 3s 4ms/step - loss: 0.0089 - accuracy: 0.9980 - val_loss: 0.0089 - val_accuracy: 0.9984\n",
      "Epoch 50/50\n",
      "726/726 [==============================] - 3s 4ms/step - loss: 0.0103 - accuracy: 0.9974 - val_loss: 0.0089 - val_accuracy: 0.9984\n",
      "Model: \"sequential\"\n",
      "_________________________________________________________________\n",
      "Layer (type)                 Output Shape              Param #   \n",
      "=================================================================\n",
      "dense (Dense)                (None, 32)                19872     \n",
      "_________________________________________________________________\n",
      "batch_normalization (BatchNo (None, 32)                128       \n",
      "_________________________________________________________________\n",
      "re_lu (ReLU)                 (None, 32)                0         \n",
      "_________________________________________________________________\n",
      "dropout (Dropout)            (None, 32)                0         \n",
      "_________________________________________________________________\n",
      "dense_1 (Dense)              (None, 16)                528       \n",
      "_________________________________________________________________\n",
      "batch_normalization_1 (Batch (None, 16)                64        \n",
      "_________________________________________________________________\n",
      "re_lu_1 (ReLU)               (None, 16)                0         \n",
      "_________________________________________________________________\n",
      "dropout_1 (Dropout)          (None, 16)                0         \n",
      "_________________________________________________________________\n",
      "dense_2 (Dense)              (None, 1)                 17        \n",
      "=================================================================\n",
      "Total params: 20,609\n",
      "Trainable params: 20,513\n",
      "Non-trainable params: 96\n",
      "_________________________________________________________________\n"
     ]
    }
   ],
   "source": [
    "size_list = [32,16]\n",
    "model = tf.keras.Sequential()\n",
    "for i in size_list:\n",
    "    model.add(layers.Dense(i))\n",
    "    model.add(layers.BatchNormalization())\n",
    "    model.add(layers.ReLU())\n",
    "    model.add(layers.Dropout(0.5))\n",
    "model.add(layers.Dense(1, activation='sigmoid'))\n",
    "\n",
    "my_callbacks = [\n",
    "    callbacks.EarlyStopping(patience=50, monitor = 'val_accuracy', restore_best_weights=True),\n",
    "    callbacks.ReduceLROnPlateau(monitor='val_loss', factor=0.5, patience=3, verbose=0, cooldown=3, min_lr=0.00001)\n",
    "]\n",
    "\n",
    "model.compile(optimizer=tf.keras.optimizers.Adam(lr=0.001),\n",
    "              loss='binary_crossentropy',\n",
    "              metrics=['accuracy'])\n",
    "history =  model.fit(x_train, y_train, batch_size=64, epochs=50, validation_data=(x_test, y_test), callbacks=my_callbacks)\n",
    "model.summary()"
   ]
  },
  {
   "cell_type": "code",
   "execution_count": 10,
   "metadata": {},
   "outputs": [
    {
     "data": {
      "image/png": "[encoded data removed]",
      "text/plain": [
       "<Figure size 432x288 with 2 Axes>"
      ]
     },
     "metadata": {
      "needs_background": "light"
     },
     "output_type": "display_data"
    },
    {
     "name": "stdout",
     "output_type": "stream",
     "text": [
      "              precision    recall  f1-score   support\n",
      "\n",
      "         0.0       1.00      1.00      1.00      9596\n",
      "         1.0       1.00      1.00      1.00     10300\n",
      "\n",
      "    accuracy                           1.00     19896\n",
      "   macro avg       1.00      1.00      1.00     19896\n",
      "weighted avg       1.00      1.00      1.00     19896\n",
      "\n"
     ]
    }
   ],
   "source": [
    "ypred = tf.round(model(x_test))\n",
    "\n",
    "CM = confusion_matrix(y_test, ypred)\n",
    "report = classification_report(y_test, ypred)\n",
    "ConfusionMatrixDisplay(confusion_matrix=CM).plot()\n",
    "plt.show()\n",
    "print(report)"
   ]
  }
 ],
 "metadata": {
  "interpreter": {
   "hash": "1c7f78ee7ae4c5c3fcd15e9dc69fa83eee8bad7b80870798e03547f69f238c1a"
  },
  "kernelspec": {
   "display_name": "Python 3.8.3 64-bit ('base': conda)",
   "language": "python",
   "name": "python3"
  },
  "language_info": {
   "codemirror_mode": {
    "name": "ipython",
    "version": 3
   },
   "file_extension": ".py",
   "mimetype": "text/x-python",
   "name": "python",
   "nbconvert_exporter": "python",
   "pygments_lexer": "ipython3",
   "version": "3.8.3"
  },
  "orig_nbformat": 4
 },
 "nbformat": 4,
 "nbformat_minor": 2
}
