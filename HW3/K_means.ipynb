{
 "cells": [
  {
   "cell_type": "markdown",
   "metadata": {},
   "source": [
    "# 曾正豪 0716325"
   ]
  },
  {
   "cell_type": "code",
   "execution_count": 21,
   "metadata": {},
   "outputs": [],
   "source": [
    "import random\n",
    "import math\n",
    "import matplotlib.pyplot as plt\n",
    "\n",
    "from sklearn.metrics import confusion_matrix\n",
    "from sklearn.metrics import classification_report\n",
    "from sklearn.metrics import ConfusionMatrixDisplay\n",
    "import numpy as np"
   ]
  },
  {
   "cell_type": "code",
   "execution_count": 22,
   "metadata": {},
   "outputs": [],
   "source": [
    "x = []\n",
    "y = []\n",
    "with open('seeds_dataset.txt', newline='') as f:\n",
    "    lines = f.readlines()\n",
    "    for line in lines:\n",
    "        line_split = line.split()\n",
    "        x.append([])\n",
    "        for i in range(7):\n",
    "            x[-1].append(float(line_split[i]))\n",
    "        y.append(int(line_split[7]) - 1)\n",
    "\n",
    "temp = list(zip(x, y))\n",
    "random.shuffle(temp)\n",
    "x, y = zip(*temp)"
   ]
  },
  {
   "cell_type": "code",
   "execution_count": 23,
   "metadata": {},
   "outputs": [
    {
     "name": "stdout",
     "output_type": "stream",
     "text": [
      "True label: (1, 2, 0, 0, 2, 2, 1, 2, 1, 1, 1, 0, 0, 0, 2, 0, 2, 2, 2, 0, 2, 1, 2, 0, 1, 0, 1, 0, 1, 2, 0, 0, 1, 2, 1, 2, 1, 1, 0, 2, 1, 0, 2, 1, 2, 0, 2, 0, 0, 2, 1, 2, 2, 0, 0, 0, 0, 2, 0, 0, 2, 0, 0, 0, 2, 0, 1, 2, 1, 2, 2, 1, 0, 1, 0, 2, 1, 1, 2, 2, 2, 1, 0, 1, 2, 2, 0, 2, 0, 2, 0, 2, 0, 2, 2, 2, 0, 2, 0, 0, 1, 2, 1, 2, 1, 2, 1, 0, 1, 2, 2, 0, 0, 2, 1, 2, 1, 2, 1, 2, 2, 1, 0, 1, 2, 2, 2, 2, 1, 1, 0, 0, 0, 1, 0, 1, 1, 0, 2, 1, 1, 0, 0, 1, 1, 0, 1, 1, 1, 1, 2, 0, 0, 2, 2, 1, 1, 1, 0, 2, 0, 0, 1, 2, 0, 0, 2, 1, 1, 0, 1, 1, 1, 0, 2, 0, 2, 2, 1, 2, 0, 0, 2, 0, 1, 0, 1, 1, 0, 0, 0, 1, 1, 0, 2, 1, 1, 1, 1, 1, 2, 0, 1, 2, 2, 0, 1, 0, 1, 2)\n",
      "Predicting label from K-means: [1, 0, 2, 2, 0, 0, 1, 0, 2, 1, 1, 2, 0, 0, 0, 2, 0, 0, 0, 2, 0, 1, 0, 0, 1, 0, 1, 2, 1, 0, 2, 2, 1, 0, 1, 0, 1, 1, 2, 0, 1, 2, 0, 1, 0, 2, 0, 2, 0, 0, 1, 0, 0, 2, 2, 0, 2, 0, 2, 2, 0, 2, 2, 2, 0, 2, 1, 0, 1, 0, 0, 1, 0, 1, 0, 0, 1, 1, 0, 0, 0, 2, 2, 1, 0, 0, 2, 0, 2, 0, 2, 0, 0, 0, 0, 0, 0, 0, 0, 2, 1, 0, 1, 0, 1, 0, 1, 2, 2, 0, 0, 0, 2, 0, 2, 0, 1, 0, 1, 0, 0, 2, 2, 1, 0, 0, 0, 0, 1, 1, 2, 2, 2, 2, 2, 1, 2, 2, 0, 1, 1, 2, 0, 2, 1, 2, 1, 1, 1, 1, 0, 2, 2, 0, 0, 2, 1, 2, 2, 0, 2, 2, 1, 0, 2, 2, 0, 1, 1, 2, 1, 1, 1, 2, 0, 2, 0, 0, 1, 0, 2, 2, 0, 2, 2, 2, 1, 1, 2, 2, 2, 1, 1, 0, 0, 1, 1, 2, 1, 1, 0, 2, 1, 0, 0, 2, 1, 0, 1, 0]\n",
      "The mapping relation: {0: 2, 1: 1, 2: 0}\n",
      "Predicting label from K-means after mapping: [1, 2, 0, 0, 2, 2, 1, 2, 0, 1, 1, 0, 2, 2, 2, 0, 2, 2, 2, 0, 2, 1, 2, 2, 1, 2, 1, 0, 1, 2, 0, 0, 1, 2, 1, 2, 1, 1, 0, 2, 1, 0, 2, 1, 2, 0, 2, 0, 2, 2, 1, 2, 2, 0, 0, 2, 0, 2, 0, 0, 2, 0, 0, 0, 2, 0, 1, 2, 1, 2, 2, 1, 2, 1, 2, 2, 1, 1, 2, 2, 2, 0, 0, 1, 2, 2, 0, 2, 0, 2, 0, 2, 2, 2, 2, 2, 2, 2, 2, 0, 1, 2, 1, 2, 1, 2, 1, 0, 0, 2, 2, 2, 0, 2, 0, 2, 1, 2, 1, 2, 2, 0, 0, 1, 2, 2, 2, 2, 1, 1, 0, 0, 0, 0, 0, 1, 0, 0, 2, 1, 1, 0, 2, 0, 1, 0, 1, 1, 1, 1, 2, 0, 0, 2, 2, 0, 1, 0, 0, 2, 0, 0, 1, 2, 0, 0, 2, 1, 1, 0, 1, 1, 1, 0, 2, 0, 2, 2, 1, 2, 0, 0, 2, 0, 0, 0, 1, 1, 0, 0, 0, 1, 1, 2, 2, 1, 1, 0, 1, 1, 2, 0, 1, 2, 2, 0, 1, 2, 1, 2]\n"
     ]
    },
    {
     "data": {
      "image/png": "[encoded data removed]",
      "text/plain": [
       "<Figure size 432x288 with 2 Axes>"
      ]
     },
     "metadata": {
      "needs_background": "light"
     },
     "output_type": "display_data"
    },
    {
     "name": "stdout",
     "output_type": "stream",
     "text": [
      "              precision    recall  f1-score   support\n",
      "\n",
      "           0       0.82      0.79      0.80        70\n",
      "           1       1.00      0.83      0.91        70\n",
      "           2       0.82      1.00      0.90        70\n",
      "\n",
      "    accuracy                           0.87       210\n",
      "   macro avg       0.88      0.87      0.87       210\n",
      "weighted avg       0.88      0.87      0.87       210\n",
      "\n"
     ]
    }
   ],
   "source": [
    "def l2_distance(x:list, y:list) -> float:\n",
    "    sum = 0.0\n",
    "    for i in range(len(x)):\n",
    "        sum += (x[i] - y[i]) ** 2\n",
    "    return sum ** 0.5\n",
    "\n",
    "def K_means_clustering(data_points:list, k: int) -> list:\n",
    "    n = len(data_points)\n",
    "    dimension = len(data_points[0])\n",
    "    belong = [0] * n\n",
    "    new_belong = [0] * n\n",
    "    stop = False\n",
    "    c = [[0,0,0],[0,0,0],[0,0,0]]\n",
    "\n",
    "    for i in range(k):\n",
    "        c[i] = data_points[random.randint(0, n-1)]\n",
    "\n",
    "    while not stop:\n",
    "        for i in range(n):\n",
    "            closet = 0\n",
    "            distance = 9999999\n",
    "            for j in range(k):\n",
    "                new_distance = l2_distance(data_points[i], c[j])\n",
    "                if new_distance < distance:\n",
    "                    closet = j\n",
    "                    distance = new_distance\n",
    "            new_belong[i] = closet\n",
    "        \n",
    "        for i in range(k):\n",
    "            num = 0\n",
    "            c[i] = [0]*dimension\n",
    "            for j in range(n):\n",
    "                if new_belong[j] == i:\n",
    "                    num += 1\n",
    "                    for l in range(dimension):\n",
    "                        c[i][l] += data_points[j][l]\n",
    "            for l in range(dimension):\n",
    "                c[i][l] = c[i][l] if num == 0 else c[i][l] / num\n",
    "        stop = True\n",
    "        for i in range(n):\n",
    "            if belong[i] != new_belong[i]:\n",
    "                stop = False\n",
    "        #print(new_belong)\n",
    "        belong = new_belong\n",
    "    return belong\n",
    "\n",
    "def K_means_label_mapping(x:list, y: list) -> list:#匈牙利演算法\n",
    "    mapping = {0:0, 1:1, 2:2}\n",
    "    table = [[0 for i in range(3)]for i in range(3)]\n",
    "    for i in range(len(x)):\n",
    "        table[ x[i] ][ y[i] ] += 1\n",
    "    \n",
    "    max_val = table[0][0] + table[1][1] + table[2][2]\n",
    "\n",
    "    for i in range(3):\n",
    "        for j in range(3):\n",
    "            for k in range(3):\n",
    "                new_val = table[0][i] + table[1][j] + table[2][k]\n",
    "                if new_val > max_val and i != j and j != k and i != k:\n",
    "                    mapping[0] = i\n",
    "                    mapping[1] = j\n",
    "                    mapping[2] = k\n",
    "                    max_val = new_val\n",
    "    return mapping\n",
    "\n",
    "pred = K_means_clustering(x,3)\n",
    "mapping = K_means_label_mapping(pred, y)\n",
    "print('True label:',y)\n",
    "\n",
    "print('Predicting label from K-means:',pred)\n",
    "print('The mapping relation:',mapping)\n",
    "for i in range(len(pred)):\n",
    "    pred[i] = mapping[pred[i]]\n",
    "print('Predicting label from K-means after mapping:',pred)\n",
    "\n",
    "CM = confusion_matrix(y, pred)\n",
    "report = classification_report(y, pred)\n",
    "ConfusionMatrixDisplay(confusion_matrix=CM).plot()\n",
    "plt.show()\n",
    "print(report)"
   ]
  },
  {
   "cell_type": "markdown",
   "metadata": {},
   "source": [
    "# Questions - K-means Clustering\n",
    "### Choose two features to execute your K-means function and draw a scatter plot with the computed centers and the predicted label for each instance."
   ]
  },
  {
   "cell_type": "code",
   "execution_count": 24,
   "metadata": {},
   "outputs": [
    {
     "data": {
      "image/png": "[encoded data removed]",
      "text/plain": [
       "<Figure size 432x288 with 1 Axes>"
      ]
     },
     "metadata": {
      "needs_background": "light"
     },
     "output_type": "display_data"
    }
   ],
   "source": [
    "x = []\n",
    "y = []\n",
    "with open('seeds_dataset.txt', newline='') as f:\n",
    "    lines = f.readlines()\n",
    "    for line in lines:\n",
    "        line_split = line.split()\n",
    "        x.append([])\n",
    "        x[-1].append(float(line_split[0]))\n",
    "        x[-1].append(float(line_split[6]))\n",
    "        y.append(int(line_split[7]) - 1)\n",
    "pred = K_means_clustering(x,3)\n",
    "\n",
    "for idx in range(len(pred)):\n",
    "    if pred[idx] == 0:\n",
    "        plt.scatter(x[idx][0], x[idx][1], c = '#1f77b4')\n",
    "    elif pred[idx] == 1:\n",
    "        plt.scatter(x[idx][0], x[idx][1], c = '#ff7f0e')\n",
    "    elif pred[idx] == 2:\n",
    "        plt.scatter(x[idx][0], x[idx][1], c = '#2ca02c')\n",
    "\n",
    "plt.show()"
   ]
  }
 ],
 "metadata": {
  "interpreter": {
   "hash": "1c7f78ee7ae4c5c3fcd15e9dc69fa83eee8bad7b80870798e03547f69f238c1a"
  },
  "kernelspec": {
   "display_name": "Python 3.8.3 64-bit ('base': conda)",
   "language": "python",
   "name": "python3"
  },
  "language_info": {
   "codemirror_mode": {
    "name": "ipython",
    "version": 3
   },
   "file_extension": ".py",
   "mimetype": "text/x-python",
   "name": "python",
   "nbconvert_exporter": "python",
   "pygments_lexer": "ipython3",
   "version": "3.8.3"
  },
  "orig_nbformat": 4
 },
 "nbformat": 4,
 "nbformat_minor": 2
}
