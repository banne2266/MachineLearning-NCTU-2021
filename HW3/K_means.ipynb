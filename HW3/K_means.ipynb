{
 "cells": [
  {
   "cell_type": "markdown",
   "metadata": {},
   "source": [
    "# 曾正豪 0716325"
   ]
  },
  {
   "cell_type": "code",
   "execution_count": 26,
   "metadata": {},
   "outputs": [],
   "source": [
    "import random\n",
    "import matplotlib.pyplot as plt\n",
    "\n",
    "from sklearn.metrics import confusion_matrix\n",
    "from sklearn.metrics import classification_report\n",
    "from sklearn.metrics import ConfusionMatrixDisplay\n",
    "import numpy as np"
   ]
  },
  {
   "cell_type": "markdown",
   "metadata": {},
   "source": [
    "## Data Input & Data Preprocessing\n",
    "    在資料讀取這邊，我直接使用了python的檔案讀取功能，將檔案內的資料一行一行讀取出來，並且使用字串的split功能將每一行的各個feature提取出來將其放入x以及y中。\n",
    "    接下來使用內建的shuffle將資料順序打亂"
   ]
  },
  {
   "cell_type": "code",
   "execution_count": 27,
   "metadata": {},
   "outputs": [],
   "source": [
    "x = []\n",
    "y = []\n",
    "with open('seeds_dataset.txt', newline='') as f:\n",
    "    lines = f.readlines()\n",
    "    for line in lines:\n",
    "        line_split = line.split()\n",
    "        x.append([])\n",
    "        for i in range(7):\n",
    "            x[-1].append(float(line_split[i]))\n",
    "        y.append(int(line_split[7]) - 1)\n",
    "\n",
    "temp = list(zip(x, y))\n",
    "random.shuffle(temp)\n",
    "x, y = zip(*temp)"
   ]
  },
  {
   "cell_type": "markdown",
   "metadata": {},
   "source": [
    "## K-means Clustering\n",
    "在這邊，我定義了3個函式\n",
    "### l2_distance(x:list, y:list) -> float\n",
    "這是用來計算兩個向量之間的L2 distance\n",
    "### K_means_clustering(data_points:list, k: int) -> list:\n",
    "這個是我k-means的本體，我一開始在寫的時候以為是這部分完全不能使用任何套件，裡面的變數完全使用python內建型別來計算，所以計算速度會蠻慢的。後面寫完之後才發現可以用numpy QQ。\n",
    "\n",
    "在一開始隨機初始化k個點時，我是從原本的資料集中隨機取出k個點作為起始點:\n",
    "```python\n",
    "for i in range(k):\n",
    "    c[i] = data_points[random.randint(0, n-1)]\n",
    "```\n",
    "\n",
    "在assignment step這邊，我將所有的data point座標，找出他們最近的cluster並assign給他該cluster的編號\n",
    "```python\n",
    "for i in range(n):\n",
    "    closet = 0\n",
    "    distance = 9999999\n",
    "    for j in range(k):\n",
    "        new_distance = l2_distance(data_points[i], c[j])\n",
    "        if new_distance < distance:\n",
    "            closet = j\n",
    "            distance = new_distance\n",
    "    new_belong[i] = closet\n",
    "```\n",
    "\n",
    "在update step這邊，我會將所有cluster的新位置更新成所有屬於該cluster的data point的平均值\n",
    "```python\n",
    "for i in range(k):\n",
    "    num = 0\n",
    "    c[i] = [0]*dimension\n",
    "    for j in range(n):\n",
    "        if new_belong[j] == i:\n",
    "            num += 1\n",
    "            for l in range(dimension):\n",
    "                c[i][l] += data_points[j][l]\n",
    "    for l in range(dimension):\n",
    "        c[i][l] = c[i][l] if num == 0 else c[i][l] / num\n",
    "```\n",
    "### K_means_label_mapping(x:list, y: list) -> list:\n",
    "這是用來尋找如何將k-means的label最佳化地對應到分類的label的，這問題其實可以簡化成任務分配問題，我們定義一個k*k的矩陣mat，mat[i][j]代表原資料中，被k-means分配到label i，但其true label是j的個數。目標是要找到，每一個row各取一個element，但取出的element的column不能有相同的，且這些element的總和要最大。貪心算法可以在線性時間內得出次優解，匈牙利演算法可以在多項式時間內解出最佳解，但我懶惰所以就直接用窮舉法把所有可能列出，找出最佳解。"
   ]
  },
  {
   "cell_type": "code",
   "execution_count": 28,
   "metadata": {},
   "outputs": [
    {
     "name": "stdout",
     "output_type": "stream",
     "text": [
      "True label: (0, 2, 0, 2, 0, 1, 0, 2, 2, 1, 0, 1, 2, 1, 1, 1, 1, 2, 2, 0, 0, 0, 1, 2, 2, 1, 1, 1, 2, 1, 2, 2, 0, 2, 1, 0, 0, 1, 1, 0, 1, 2, 2, 2, 2, 0, 2, 0, 0, 2, 2, 0, 1, 0, 1, 1, 2, 1, 1, 1, 2, 0, 1, 1, 2, 0, 1, 2, 2, 2, 0, 2, 1, 0, 1, 0, 2, 2, 0, 2, 2, 2, 1, 2, 1, 1, 0, 0, 1, 2, 1, 0, 0, 0, 1, 0, 2, 1, 2, 2, 2, 1, 2, 2, 0, 0, 0, 2, 1, 2, 1, 0, 1, 0, 1, 2, 2, 1, 1, 1, 1, 2, 1, 1, 2, 0, 0, 2, 2, 1, 1, 0, 0, 2, 0, 2, 2, 0, 2, 1, 0, 1, 1, 2, 1, 2, 0, 1, 0, 0, 0, 2, 1, 0, 2, 2, 1, 2, 2, 1, 1, 1, 0, 1, 1, 2, 0, 2, 0, 2, 1, 0, 1, 1, 2, 2, 0, 0, 0, 0, 1, 0, 2, 0, 0, 1, 0, 1, 0, 2, 2, 1, 0, 0, 0, 0, 0, 1, 0, 0, 2, 0, 2, 1, 1, 0, 1, 0, 0, 2)\n",
      "Predicted label from K-means: [1, 0, 2, 0, 1, 1, 2, 2, 0, 1, 2, 1, 0, 1, 1, 1, 1, 0, 0, 2, 2, 1, 1, 0, 2, 1, 1, 1, 2, 1, 0, 0, 2, 0, 1, 2, 2, 1, 1, 1, 1, 0, 0, 0, 0, 1, 2, 2, 2, 0, 0, 1, 1, 2, 1, 1, 2, 1, 1, 1, 0, 1, 1, 1, 2, 2, 1, 2, 0, 2, 2, 2, 1, 2, 1, 2, 2, 0, 2, 0, 2, 2, 1, 0, 1, 1, 2, 2, 1, 0, 1, 1, 0, 2, 1, 2, 0, 1, 0, 0, 0, 1, 0, 0, 2, 2, 0, 0, 1, 0, 1, 2, 1, 2, 1, 2, 0, 1, 1, 1, 1, 0, 1, 1, 2, 1, 1, 0, 0, 1, 1, 2, 2, 0, 2, 0, 0, 1, 0, 1, 2, 1, 1, 0, 1, 0, 1, 1, 2, 1, 1, 0, 1, 2, 0, 2, 1, 2, 2, 1, 1, 1, 2, 1, 1, 0, 2, 2, 1, 0, 1, 1, 1, 1, 2, 0, 2, 2, 2, 2, 1, 1, 0, 2, 1, 1, 2, 1, 2, 2, 0, 1, 2, 2, 2, 2, 2, 1, 1, 2, 0, 2, 0, 1, 1, 2, 1, 2, 2, 0]\n",
      "\n",
      "The mapping relation: {0: 2, 1: 1, 2: 0}\n",
      "\n",
      "Predicted label from K-means after mapping: [1, 2, 0, 2, 1, 1, 0, 0, 2, 1, 0, 1, 2, 1, 1, 1, 1, 2, 2, 0, 0, 1, 1, 2, 0, 1, 1, 1, 0, 1, 2, 2, 0, 2, 1, 0, 0, 1, 1, 1, 1, 2, 2, 2, 2, 1, 0, 0, 0, 2, 2, 1, 1, 0, 1, 1, 0, 1, 1, 1, 2, 1, 1, 1, 0, 0, 1, 0, 2, 0, 0, 0, 1, 0, 1, 0, 0, 2, 0, 2, 0, 0, 1, 2, 1, 1, 0, 0, 1, 2, 1, 1, 2, 0, 1, 0, 2, 1, 2, 2, 2, 1, 2, 2, 0, 0, 2, 2, 1, 2, 1, 0, 1, 0, 1, 0, 2, 1, 1, 1, 1, 2, 1, 1, 0, 1, 1, 2, 2, 1, 1, 0, 0, 2, 0, 2, 2, 1, 2, 1, 0, 1, 1, 2, 1, 2, 1, 1, 0, 1, 1, 2, 1, 0, 2, 0, 1, 0, 0, 1, 1, 1, 0, 1, 1, 2, 0, 0, 1, 2, 1, 1, 1, 1, 0, 2, 0, 0, 0, 0, 1, 1, 2, 0, 1, 1, 0, 1, 0, 0, 2, 1, 0, 0, 0, 0, 0, 1, 1, 0, 2, 0, 2, 1, 1, 0, 1, 0, 0, 2]\n"
     ]
    },
    {
     "data": {
      "image/png": "[encoded data removed]",
      "text/plain": [
       "<Figure size 432x288 with 2 Axes>"
      ]
     },
     "metadata": {
      "needs_background": "light"
     },
     "output_type": "display_data"
    },
    {
     "name": "stdout",
     "output_type": "stream",
     "text": [
      "              precision    recall  f1-score   support\n",
      "\n",
      "           0       0.71      0.70      0.71        70\n",
      "           1       0.79      1.00      0.88        70\n",
      "           2       0.96      0.71      0.82        70\n",
      "\n",
      "    accuracy                           0.80       210\n",
      "   macro avg       0.82      0.80      0.80       210\n",
      "weighted avg       0.82      0.80      0.80       210\n",
      "\n"
     ]
    }
   ],
   "source": [
    "def l2_distance(x:list, y:list) -> float:\n",
    "    sum = 0.0\n",
    "    for i in range(len(x)):\n",
    "        sum += (x[i] - y[i]) ** 2\n",
    "    return sum ** 0.5\n",
    "\n",
    "def K_means_clustering(data_points:list, k: int) -> list:\n",
    "    n = len(data_points)\n",
    "    dimension = len(data_points[0])\n",
    "    belong = [0] * n\n",
    "    new_belong = [0] * n\n",
    "    stop = False\n",
    "    c = [[0,0,0],[0,0,0],[0,0,0]]\n",
    "\n",
    "    for i in range(k):\n",
    "        c[i] = data_points[random.randint(0, n-1)]\n",
    "\n",
    "    while not stop:\n",
    "        for i in range(n):\n",
    "            closet = 0\n",
    "            distance = 9999999\n",
    "            for j in range(k):\n",
    "                new_distance = l2_distance(data_points[i], c[j])\n",
    "                if new_distance < distance:\n",
    "                    closet = j\n",
    "                    distance = new_distance\n",
    "            new_belong[i] = closet\n",
    "        \n",
    "        for i in range(k):\n",
    "            num = 0\n",
    "            c[i] = [0]*dimension\n",
    "            for j in range(n):\n",
    "                if new_belong[j] == i:\n",
    "                    num += 1\n",
    "                    for l in range(dimension):\n",
    "                        c[i][l] += data_points[j][l]\n",
    "            for l in range(dimension):\n",
    "                c[i][l] = c[i][l] if num == 0 else c[i][l] / num\n",
    "        stop = True\n",
    "        for i in range(n):\n",
    "            if belong[i] != new_belong[i]:\n",
    "                stop = False\n",
    "        #print(new_belong)\n",
    "        belong = new_belong\n",
    "    return belong\n",
    "\n",
    "def K_means_label_mapping(x:list, y: list) -> list:\n",
    "    mapping = {0:0, 1:1, 2:2}\n",
    "    table = [[0 for i in range(3)]for i in range(3)]\n",
    "    for i in range(len(x)):\n",
    "        table[ x[i] ][ y[i] ] += 1\n",
    "    \n",
    "    max_val = table[0][0] + table[1][1] + table[2][2]\n",
    "\n",
    "    for i in range(3):\n",
    "        for j in range(3):\n",
    "            for k in range(3):\n",
    "                new_val = table[0][i] + table[1][j] + table[2][k]\n",
    "                if new_val > max_val and i != j and j != k and i != k:\n",
    "                    mapping[0] = i\n",
    "                    mapping[1] = j\n",
    "                    mapping[2] = k\n",
    "                    max_val = new_val\n",
    "    return mapping\n",
    "\n",
    "pred = K_means_clustering(x,3)\n",
    "mapping = K_means_label_mapping(pred, y)\n",
    "print('True label:',y)\n",
    "\n",
    "print('Predicted label from K-means:',pred)\n",
    "print('\\nThe mapping relation:',mapping)\n",
    "for i in range(len(pred)):\n",
    "    pred[i] = mapping[pred[i]]\n",
    "print('\\nPredicted label from K-means after mapping:',pred)\n",
    "\n",
    "CM = confusion_matrix(y, pred)\n",
    "report = classification_report(y, pred)\n",
    "ConfusionMatrixDisplay(confusion_matrix=CM).plot()\n",
    "plt.show()\n",
    "print(report)"
   ]
  },
  {
   "cell_type": "markdown",
   "metadata": {},
   "source": [
    "# Questions - K-means Clustering\n",
    "### Choose two features to execute your K-means function and draw a scatter plot with the computed centers and the predicted label for each instance.\n",
    "\n",
    "在這邊，我取了第1以及第7的feature出來，並將其丟入K-means當中，最後根據這些點所屬的cluster將其依不同顏色繪出，黑點為該cluster的中心點位"
   ]
  },
  {
   "cell_type": "code",
   "execution_count": 35,
   "metadata": {},
   "outputs": [
    {
     "data": {
      "image/png": "[encoded data removed]",
      "text/plain": [
       "<Figure size 432x288 with 1 Axes>"
      ]
     },
     "metadata": {
      "needs_background": "light"
     },
     "output_type": "display_data"
    }
   ],
   "source": [
    "x = []\n",
    "y = []\n",
    "with open('seeds_dataset.txt', newline='') as f:\n",
    "    lines = f.readlines()\n",
    "    for line in lines:\n",
    "        line_split = line.split()\n",
    "        x.append([])\n",
    "        x[-1].append(float(line_split[0]))\n",
    "        x[-1].append(float(line_split[6]))\n",
    "        y.append(int(line_split[7]) - 1)\n",
    "pred = K_means_clustering(x,3)\n",
    "\n",
    "avg = [[0,0], [0,0], [0,0]]\n",
    "cnt = [0,0,0]\n",
    "\n",
    "for idx in range(len(pred)):\n",
    "    if pred[idx] == 0:\n",
    "        plt.scatter(x[idx][0], x[idx][1], c = '#1f77b4')\n",
    "        avg[0][0] += x[idx][0]\n",
    "        avg[0][1] += x[idx][1]\n",
    "        cnt[0] += 1\n",
    "    elif pred[idx] == 1:\n",
    "        plt.scatter(x[idx][0], x[idx][1], c = '#ff7f0e')\n",
    "        avg[1][0] += x[idx][0]\n",
    "        avg[1][1] += x[idx][1]\n",
    "        cnt[1] += 1\n",
    "    elif pred[idx] == 2:\n",
    "        plt.scatter(x[idx][0], x[idx][1], c = '#2ca02c')\n",
    "        avg[2][0] += x[idx][0]\n",
    "        avg[2][1] += x[idx][1]\n",
    "        cnt[2] += 1\n",
    "\n",
    "avg[0][0] /= cnt[0]\n",
    "avg[0][1] /= cnt[0]\n",
    "avg[1][0] /= cnt[1]\n",
    "avg[1][1] /= cnt[1]\n",
    "avg[2][0] /= cnt[2]\n",
    "avg[2][1] /= cnt[2]\n",
    "\n",
    "plt.scatter(avg[0][0], avg[0][1], c = '#000000', s=100)\n",
    "plt.scatter(avg[1][0], avg[1][1], c = '#000000', s=100)\n",
    "plt.scatter(avg[2][0], avg[2][1], c = '#000000', s=100)\n",
    "\n",
    "plt.show()"
   ]
  }
 ],
 "metadata": {
  "interpreter": {
   "hash": "1c7f78ee7ae4c5c3fcd15e9dc69fa83eee8bad7b80870798e03547f69f238c1a"
  },
  "kernelspec": {
   "display_name": "Python 3.8.3 64-bit ('base': conda)",
   "language": "python",
   "name": "python3"
  },
  "language_info": {
   "codemirror_mode": {
    "name": "ipython",
    "version": 3
   },
   "file_extension": ".py",
   "mimetype": "text/x-python",
   "name": "python",
   "nbconvert_exporter": "python",
   "pygments_lexer": "ipython3",
   "version": "3.8.3"
  },
  "orig_nbformat": 4
 },
 "nbformat": 4,
 "nbformat_minor": 2
}
